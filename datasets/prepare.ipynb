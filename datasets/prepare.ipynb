{
 "cells": [
  {
   "cell_type": "code",
   "execution_count": 1,
   "id": "b8b3fa06",
   "metadata": {},
   "outputs": [],
   "source": [
    "import cv2\n",
    "import os\n",
    "import numpy as np\n",
    "from tqdm.notebook import tqdm\n",
    "from PIL import Image"
   ]
  },
  {
   "cell_type": "code",
   "execution_count": 2,
   "id": "53990643",
   "metadata": {},
   "outputs": [],
   "source": [
    "name = \"Duong\"\n",
    "file = \"./Duong.mp4\"\n",
    "data_path = f\"train/{name}\"\n",
    "num_images_target = 85"
   ]
  },
  {
   "cell_type": "code",
   "execution_count": 3,
   "id": "63eb7d2d",
   "metadata": {},
   "outputs": [],
   "source": [
    "if not os.path.exists(data_path):\n",
    "    os.makedirs(data_path)"
   ]
  },
  {
   "cell_type": "code",
   "execution_count": 4,
   "id": "886a829d",
   "metadata": {},
   "outputs": [
    {
     "data": {
      "text/plain": [
       "440"
      ]
     },
     "execution_count": 4,
     "metadata": {},
     "output_type": "execute_result"
    }
   ],
   "source": [
    "vid = cv2.VideoCapture(file)\n",
    "vid_len = int(vid.get(cv2.CAP_PROP_FRAME_COUNT))\n",
    "vid_len"
   ]
  },
  {
   "cell_type": "code",
   "execution_count": 5,
   "id": "63bfe680",
   "metadata": {},
   "outputs": [],
   "source": [
    "if vid_len < num_images_target:\n",
    "    step_size = 1\n",
    "else:\n",
    "    step_size = vid_len // num_images_target"
   ]
  },
  {
   "cell_type": "code",
   "execution_count": 6,
   "id": "196de5be",
   "metadata": {},
   "outputs": [
    {
     "data": {
      "application/vnd.jupyter.widget-view+json": {
       "model_id": "47b3593933564bd28f6b1678a12bf930",
       "version_major": 2,
       "version_minor": 0
      },
      "text/plain": [
       "  0%|          | 0/88 [00:00<?, ?it/s]"
      ]
     },
     "metadata": {},
     "output_type": "display_data"
    }
   ],
   "source": [
    "for i in tqdm(range(0,vid_len, step_size)):\n",
    "    vid.set(cv2.CAP_PROP_POS_FRAMES, i)\n",
    "    success, frame = vid.read()\n",
    "    if not success: continue\n",
    "    frame = cv2.cvtColor(frame, cv2.COLOR_BGR2RGB)\n",
    "    pil_image = Image.fromarray(frame)\n",
    "    img_path = os.path.join(data_path, f\"{name}_{i+1}.jpg\")\n",
    "    pil_image.save(img_path)\n",
    "vid.release()"
   ]
  },
  {
   "cell_type": "code",
   "execution_count": 7,
   "id": "ea68c630",
   "metadata": {},
   "outputs": [
    {
     "data": {
      "text/plain": [
       "(1280, 720, 3)"
      ]
     },
     "execution_count": 7,
     "metadata": {},
     "output_type": "execute_result"
    }
   ],
   "source": [
    "img = Image.open(f\"./train/{name}/{name}_1.jpg\")\n",
    "img = np.array(img)\n",
    "img.shape"
   ]
  },
  {
   "cell_type": "code",
   "execution_count": null,
   "id": "17b16961",
   "metadata": {},
   "outputs": [],
   "source": []
  }
 ],
 "metadata": {
  "kernelspec": {
   "display_name": ".venv",
   "language": "python",
   "name": "python3"
  },
  "language_info": {
   "codemirror_mode": {
    "name": "ipython",
    "version": 3
   },
   "file_extension": ".py",
   "mimetype": "text/x-python",
   "name": "python",
   "nbconvert_exporter": "python",
   "pygments_lexer": "ipython3",
   "version": "3.13.3"
  }
 },
 "nbformat": 4,
 "nbformat_minor": 5
}
